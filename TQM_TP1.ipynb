{
 "metadata": {
  "name": "",
  "signature": "sha256:8b1f35e6a2d6017cd64561418e64ac211575c8291a70139fb960f7f248336e01"
 },
 "nbformat": 3,
 "nbformat_minor": 0,
 "worksheets": [
  {
   "cells": [
    {
     "cell_type": "heading",
     "level": 1,
     "metadata": {},
     "source": [
      "This Notebook reproduce my TQM TP#1 in python"
     ]
    },
    {
     "cell_type": "code",
     "collapsed": true,
     "input": [
      "# import packages\n",
      "import pandas as pd\n",
      "import numpy as np\n",
      "from __future__ import division # to make sure it return a float\n",
      "import matplotlib.pyplot as plt\n",
      "\n",
      "# read the file\n",
      "df=pd.read_csv('C:\\Users\\Terry\\Desktop\\Project\\TQM\\TP1\\devoir1_data.csv') # change path to work on your local computer\n",
      "df.dtypes"
     ],
     "language": "python",
     "metadata": {},
     "outputs": [
      {
       "metadata": {},
       "output_type": "pyout",
       "prompt_number": 14,
       "text": [
        "sexe          int64\n",
        "age           int64\n",
        "shopping    float64\n",
        "banking     float64\n",
        "dtype: object"
       ]
      }
     ],
     "prompt_number": 14
    },
    {
     "cell_type": "code",
     "collapsed": false,
     "input": [
      "# describe \n",
      "df['shopping'].groupby(df['sexe']).mean()"
     ],
     "language": "python",
     "metadata": {},
     "outputs": [
      {
       "metadata": {},
       "output_type": "pyout",
       "prompt_number": 17,
       "text": [
        "sexe\n",
        "0       2.829170\n",
        "1       3.063064\n",
        "dtype: float64"
       ]
      }
     ],
     "prompt_number": 17
    },
    {
     "cell_type": "code",
     "collapsed": true,
     "input": [
      "# describe age by count \n",
      "df.groupby('age').size()"
     ],
     "language": "python",
     "metadata": {},
     "outputs": [
      {
       "metadata": {},
       "output_type": "pyout",
       "prompt_number": 10,
       "text": [
        "age\n",
        "1      32\n",
        "2      33\n",
        "3      40\n",
        "4      25\n",
        "5      24\n",
        "dtype: int64"
       ]
      }
     ],
     "prompt_number": 10
    },
    {
     "cell_type": "code",
     "collapsed": true,
     "input": [
      "# describe sexe by count\n",
      "df.groupby('sexe').size()\n",
      "        "
     ],
     "language": "python",
     "metadata": {},
     "outputs": [
      {
       "metadata": {},
       "output_type": "pyout",
       "prompt_number": 11,
       "text": [
        "sexe\n",
        "0       80\n",
        "1       74\n",
        "dtype: int64"
       ]
      }
     ],
     "prompt_number": 11
    },
    {
     "cell_type": "code",
     "collapsed": false,
     "input": [
      "# keed two columns shoping and banking\n",
      "\n",
      "# draw boxplot\n",
      "fig, ax1 = plt.subplots(figsize=(10,6))\n",
      "fig.canvas.set_window_title('Boxplot Age & Banking')\n",
      "plt.subplots_adjust(left=0.075, right=0.95, top=0.9, bottom=0.25)\n",
      "\n",
      "bp = plt.boxplot(data, notch=0, sym='+', vert=1, whis=1.5)\n",
      "plt.setp(bp['boxes'], color='black')\n",
      "plt.setp(bp['whiskers'], color='black')\n",
      "plt.setp(bp['fliers'], color='red', marker='+')"
     ],
     "language": "python",
     "metadata": {},
     "outputs": [
      {
       "ename": "AttributeError",
       "evalue": "'module' object has no attribute 'dataFrame'",
       "output_type": "pyerr",
       "traceback": [
        "\u001b[1;31m---------------------------------------------------------------------------\u001b[0m\n\u001b[1;31mAttributeError\u001b[0m                            Traceback (most recent call last)",
        "\u001b[1;32m<ipython-input-29-feade4d2d19b>\u001b[0m in \u001b[0;36m<module>\u001b[1;34m()\u001b[0m\n\u001b[1;32m----> 1\u001b[1;33m \u001b[0mpd\u001b[0m\u001b[1;33m.\u001b[0m\u001b[0mdataFrame\u001b[0m\u001b[1;33m(\u001b[0m\u001b[0mdf\u001b[0m\u001b[1;33m)\u001b[0m\u001b[1;33m\u001b[0m\u001b[0m\n\u001b[0m",
        "\u001b[1;31mAttributeError\u001b[0m: 'module' object has no attribute 'dataFrame'"
       ]
      }
     ],
     "prompt_number": 29
    },
    {
     "cell_type": "code",
     "collapsed": false,
     "input": [],
     "language": "python",
     "metadata": {},
     "outputs": []
    }
   ],
   "metadata": {}
  }
 ]
}