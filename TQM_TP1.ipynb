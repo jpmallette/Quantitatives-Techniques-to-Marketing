{
 "metadata": {
  "name": "",
  "signature": "sha256:48459a2b61f52790f7e79b4ebe694ffe9f80357062031e9369ea19948c6e315c"
 },
 "nbformat": 3,
 "nbformat_minor": 0,
 "worksheets": [
  {
   "cells": [
    {
     "cell_type": "heading",
     "level": 1,
     "metadata": {},
     "source": [
      "This Notebook reproduce my TQM TP#1 in python"
     ]
    },
    {
     "cell_type": "code",
     "collapsed": true,
     "input": [
      "# import packages\n",
      "import pandas as pd\n",
      "import numpy as np\n",
      "from __future__ import division # to make sure it return a float\n",
      "%pylab inline # to display the graph \n",
      "\n",
      "# read the file\n",
      "df=pd.read_csv('C:\\Users\\Terry\\Desktop\\Project\\TQM\\TP1\\devoir1_data.csv') # change path to work on your local computer"
     ],
     "language": "python",
     "metadata": {},
     "outputs": [
      {
       "output_type": "stream",
       "stream": "stdout",
       "text": [
        "Populating the interactive namespace from numpy and matplotlib\n"
       ]
      },
      {
       "metadata": {},
       "output_type": "pyout",
       "prompt_number": 15,
       "text": [
        "sexe          int64\n",
        "age           int64\n",
        "shopping    float64\n",
        "banking     float64\n",
        "dtype: object"
       ]
      }
     ],
     "prompt_number": 15
    },
    {
     "cell_type": "code",
     "collapsed": true,
     "input": [
      "# describe \n",
      "df['shopping'].groupby(df['sexe']).mean()"
     ],
     "language": "python",
     "metadata": {},
     "outputs": [
      {
       "metadata": {},
       "output_type": "pyout",
       "prompt_number": 17,
       "text": [
        "sexe\n",
        "0       2.829170\n",
        "1       3.063064\n",
        "dtype: float64"
       ]
      }
     ],
     "prompt_number": 17
    },
    {
     "cell_type": "code",
     "collapsed": true,
     "input": [
      "# describe age by count \n",
      "df.groupby('age').size()"
     ],
     "language": "python",
     "metadata": {},
     "outputs": [
      {
       "metadata": {},
       "output_type": "pyout",
       "prompt_number": 10,
       "text": [
        "age\n",
        "1      32\n",
        "2      33\n",
        "3      40\n",
        "4      25\n",
        "5      24\n",
        "dtype: int64"
       ]
      }
     ],
     "prompt_number": 10
    },
    {
     "cell_type": "code",
     "collapsed": true,
     "input": [
      "# describe sexe by count\n",
      "df.groupby('sexe').size()\n"
     ],
     "language": "python",
     "metadata": {},
     "outputs": []
    },
    {
     "cell_type": "code",
     "collapsed": true,
     "input": [
      "# plot shopping attribute by on age. function of pandas object\n",
      "df.boxplot('shopping',by='sexe')"
     ],
     "language": "python",
     "metadata": {},
     "outputs": [
      {
       "metadata": {},
       "output_type": "pyout",
       "prompt_number": 17,
       "text": [
        "<matplotlib.axes.AxesSubplot at 0xde6e978>"
       ]
      },
      {
       "metadata": {},
       "output_type": "display_data",
       "png": "[encoded data removed]",
       "text": [
        "<matplotlib.figure.Figure at 0xde776d8>"
       ]
      }
     ],
     "prompt_number": 17
    },
    {
     "cell_type": "code",
     "collapsed": false,
     "input": [
      "# plot shopping attribute over sexe\n",
      "df.drop(['age','banking'],1).groupby(['sexe']).hist()  # important to do the drop by before. Warning not the same axis."
     ],
     "language": "python",
     "metadata": {},
     "outputs": [
      {
       "metadata": {},
       "output_type": "pyout",
       "prompt_number": 61,
       "text": [
        "sexe\n",
        "0       [[Axes(0.125,0.125;0.775x0.775)]]\n",
        "1       [[Axes(0.125,0.125;0.775x0.775)]]\n",
        "dtype: object"
       ]
      },
      {
       "metadata": {},
       "output_type": "display_data",
       "png": "[encoded data removed]",
       "text": [
        "<matplotlib.figure.Figure at 0x11943630>"
       ]
      },
      {
       "metadata": {},
       "output_type": "display_data",
       "png": "[encoded data removed]",
       "text": [
        "<matplotlib.figure.Figure at 0x11a14e48>"
       ]
      }
     ],
     "prompt_number": 61
    },
    {
     "cell_type": "code",
     "collapsed": false,
     "input": [],
     "language": "python",
     "metadata": {},
     "outputs": []
    }
   ],
   "metadata": {}
  }
 ]
}