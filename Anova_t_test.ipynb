{
 "metadata": {
  "name": "",
  "signature": "sha256:88c54f8663ce94ad253403d39230a0ece6046ec0704be601374b0c05f30b7a14"
 },
 "nbformat": 3,
 "nbformat_minor": 0,
 "worksheets": [
  {
   "cells": [
    {
     "cell_type": "heading",
     "level": 1,
     "metadata": {},
     "source": [
      "This Notebook reproduce Anova and t-test in Python"
     ]
    },
    {
     "cell_type": "code",
     "collapsed": true,
     "input": [
      "# import packages\n",
      "from scipy import stats\n",
      "import pandas as pd\n",
      "import numpy as np\n",
      "from __future__ import division # to make sure it return a float\n",
      "%pylab inline\n",
      "\n",
      "# read the file\n",
      "df=pd.read_csv('C:\\Users\\Terry\\Desktop\\Project\\TQM\\TP1\\devoir1_data.csv') # change path to work on your local computer"
     ],
     "language": "python",
     "metadata": {},
     "outputs": [
      {
       "output_type": "stream",
       "stream": "stdout",
       "text": [
        "Populating the interactive namespace from numpy and matplotlib\n"
       ]
      }
     ],
     "prompt_number": 2
    },
    {
     "cell_type": "code",
     "collapsed": true,
     "input": [
      "# describe \n",
      "df['shopping'].groupby(df['sexe']).mean()"
     ],
     "language": "python",
     "metadata": {},
     "outputs": [
      {
       "metadata": {},
       "output_type": "pyout",
       "prompt_number": 17,
       "text": [
        "sexe\n",
        "0       2.829170\n",
        "1       3.063064\n",
        "dtype: float64"
       ]
      }
     ],
     "prompt_number": 17
    },
    {
     "cell_type": "code",
     "collapsed": true,
     "input": [
      "# describe age by count \n",
      "df.groupby('age').size()"
     ],
     "language": "python",
     "metadata": {},
     "outputs": [
      {
       "metadata": {},
       "output_type": "pyout",
       "prompt_number": 10,
       "text": [
        "age\n",
        "1      32\n",
        "2      33\n",
        "3      40\n",
        "4      25\n",
        "5      24\n",
        "dtype: int64"
       ]
      }
     ],
     "prompt_number": 10
    },
    {
     "cell_type": "code",
     "collapsed": true,
     "input": [
      "# describe sexe by count\n",
      "df.groupby('sexe').size()\n"
     ],
     "language": "python",
     "metadata": {},
     "outputs": []
    },
    {
     "cell_type": "code",
     "collapsed": true,
     "input": [
      "# plot shopping attribute by on age. function of pandas object\n",
      "df.boxplot('shopping',by='sexe')"
     ],
     "language": "python",
     "metadata": {},
     "outputs": [
      {
       "metadata": {},
       "output_type": "pyout",
       "prompt_number": 17,
       "text": [
        "<matplotlib.axes.AxesSubplot at 0xde6e978>"
       ]
      },
      {
       "metadata": {},
       "output_type": "display_data",
       "png": "[encoded data removed]",
       "text": [
        "<matplotlib.figure.Figure at 0xde776d8>"
       ]
      }
     ],
     "prompt_number": 17
    },
    {
     "cell_type": "code",
     "collapsed": true,
     "input": [
      "# plot shopping attribute over sexe\n",
      "df.drop(['age','banking'],1).groupby(['sexe']).hist()  # important to do the drop by before. Warning not the same axis.\n",
      "\n",
      "# average shopping by sexe \n",
      "df.drop(['age','banking'],1).groupby(['sexe']).mean() "
     ],
     "language": "python",
     "metadata": {},
     "outputs": [
      {
       "html": [
        "<div style=\"max-height:1000px;max-width:1500px;overflow:auto;\">\n",
        "<table border=\"1\" class=\"dataframe\">\n",
        "  <thead>\n",
        "    <tr style=\"text-align: right;\">\n",
        "      <th></th>\n",
        "      <th>shopping</th>\n",
        "    </tr>\n",
        "    <tr>\n",
        "      <th>sexe</th>\n",
        "      <th></th>\n",
        "    </tr>\n",
        "  </thead>\n",
        "  <tbody>\n",
        "    <tr>\n",
        "      <th>0</th>\n",
        "      <td> 2.829170</td>\n",
        "    </tr>\n",
        "    <tr>\n",
        "      <th>1</th>\n",
        "      <td> 3.063064</td>\n",
        "    </tr>\n",
        "  </tbody>\n",
        "</table>\n",
        "</div>"
       ],
       "metadata": {},
       "output_type": "pyout",
       "prompt_number": 33,
       "text": [
        "      shopping\n",
        "sexe          \n",
        "0     2.829170\n",
        "1     3.063064"
       ]
      },
      {
       "metadata": {},
       "output_type": "display_data",
       "png": "[encoded data removed]",
       "text": [
        "<matplotlib.figure.Figure at 0x16195630>"
       ]
      },
      {
       "metadata": {},
       "output_type": "display_data",
       "png": "[encoded data removed]",
       "text": [
        "<matplotlib.figure.Figure at 0x16195208>"
       ]
      }
     ],
     "prompt_number": 33
    },
    {
     "cell_type": "code",
     "collapsed": true,
     "input": [
      "# test if shopping average is equal depending on sexe. Independant sample\n",
      "# test work if no extrem value\n",
      "\n",
      "#H0 : \u03c312  =  \u03c322\n",
      "#H1 : \u03c312  \u2260  \u03c322\n",
      "\n",
      "#H0: \u03bc_1=\u03bc_2\n",
      "#H1: \u03bc_1\u2260\u03bc_2\n",
      "\n",
      "# take the two sample (only variable of shopping for man and other for women)\n",
      "# df.loc[row_indexer,column_indexer]\n",
      "\n",
      "sampling_femme=df.loc[(df.sexe == 1)].drop(['sexe','age','banking'],1)\n",
      "sampling_homme=df.loc[(df.sexe == 0)].drop(['sexe','age','banking'],1)\n",
      "\n",
      "# test if variance equal\n",
      "stats.levene(sampling_femme,sampling_homme,center='mean') #suppose equality of variance\n",
      "\n",
      "# test if average equal # if equality variance false i can change the test in the parameter of the function.\n",
      "stats.ttest_ind(sampling_femme,sampling_homme) # Reject HO average are different\n",
      "\n",
      "# Mann-Whitney test for extrem value. Cannot find the function test.\n"
     ],
     "language": "python",
     "metadata": {},
     "outputs": [
      {
       "metadata": {},
       "output_type": "pyout",
       "prompt_number": 34,
       "text": [
        "(2304.5, 0.0081921075646129698)"
       ]
      }
     ],
     "prompt_number": 34
    },
    {
     "cell_type": "code",
     "collapsed": false,
     "input": [
      "#Comparing if perspective for using cell phone for shopping is the same among the age group.  \n",
      "# The Anova (analysis of variance) is a generalisation of the t-test for multiple Group. \n",
      "\n",
      "#H0 : \u03c312  =  \u03c322\n",
      "#H1 : \u03c312  \u2260  \u03c322\n",
      "\n",
      "#H0: u_1=u_2=u_3=u_4=u_5\n",
      "#H1: u_i\u2260u_j  for at least one couple of (i,j)\n",
      "\n",
      "age_1=df.loc[(df.age == 1)].drop(['sexe','age','banking'],1)\n",
      "age_2=df.loc[(df.age == 2)].drop(['sexe','age','banking'],1)\n",
      "age_3=df.loc[(df.age == 3)].drop(['sexe','age','banking'],1)\n",
      "age_4=df.loc[(df.age == 4)].drop(['sexe','age','banking'],1)\n",
      "age_5=df.loc[(df.age == 5)].drop(['sexe','age','banking'],1)\n",
      "\n",
      "# test if variance equal\n",
      "stats.levene(age_1,age_2,age_3,age_4,age_5,center='mean') #cannot reject H0 equality of variance\n",
      "\n",
      "# compute one-way ANOVA P value    \n",
      "\n",
      "f_val, p_val = stats.f_oneway(age_1,age_2,age_3,age_4,age_5)  \n",
      "  \n",
      "print \"One-way ANOVA P =\", p_val # Conclude that means are different"
     ],
     "language": "python",
     "metadata": {},
     "outputs": [
      {
       "output_type": "stream",
       "stream": "stdout",
       "text": [
        "One-way ANOVA P = [  9.05812352e-05]\n"
       ]
      }
     ],
     "prompt_number": 5
    }
   ],
   "metadata": {}
  }
 ]
}